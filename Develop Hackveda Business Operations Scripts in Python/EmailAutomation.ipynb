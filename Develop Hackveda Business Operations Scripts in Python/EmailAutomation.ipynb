{
  "cells": [
    {
      "cell_type": "code",
      "execution_count": null,
      "metadata": {
        "id": "jQ_0G_aTAR49"
      },
      "outputs": [],
      "source": [
        "import smtplib\n",
        "from email.mime.multipart import MIMEMultipart\n",
        "from email.mime.text import MIMEText\n",
        "from email.mime.base import MIMEBase\n",
        "from email import encoders"
      ]
    },
    {
      "cell_type": "code",
      "execution_count": null,
      "metadata": {
        "colab": {
          "base_uri": "https://localhost:8080/"
        },
        "id": "vYpqg4HwB8bG",
        "outputId": "e586ece0-8575-4380-cbfc-4c58de101c87"
      },
      "outputs": [
        {
          "name": "stdout",
          "output_type": "stream",
          "text": [
            "Email sent successfully!\n"
          ]
        }
      ],
      "source": [
        "# Email configuration\n",
        "sender_email = 'your_mail'\n",
        "receiver_email = 'to_mail'\n",
        "password = 'password'  # Your email account password\n",
        "\n",
        "# Create a multipart message and set headers\n",
        "message = MIMEMultipart()\n",
        "message['From'] = sender_email\n",
        "message['To'] = receiver_email\n",
        "message['Subject'] = 'Subject of the email'\n",
        "\n",
        "# Add body to email\n",
        "body = 'Hi'\n",
        "message.attach(MIMEText(body, 'plain'))\n",
        "\n",
        "# Establish a secure session with Gmail's outgoing SMTP server using your credentials\n",
        "try:\n",
        "    server = smtplib.SMTP_SSL('smtp.gmail.com', 465)\n",
        "    server.ehlo()\n",
        "    server.login(sender_email, password)\n",
        "    server.sendmail(sender_email, receiver_email, message.as_string())\n",
        "    print(\"Email sent successfully!\")\n",
        "except Exception as e:\n",
        "    print(f\"Failed to send email. Error: {e}\")\n",
        "finally:\n",
        "    server.quit()\n"
      ]
    }
  ],
  "metadata": {
    "colab": {
      "provenance": []
    },
    "kernelspec": {
      "display_name": "Python 3",
      "name": "python3"
    },
    "language_info": {
      "name": "python"
    }
  },
  "nbformat": 4,
  "nbformat_minor": 0
}
