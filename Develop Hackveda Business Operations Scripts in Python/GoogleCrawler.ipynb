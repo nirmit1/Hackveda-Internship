{
  "cells": [
    {
      "cell_type": "code",
      "execution_count": null,
      "metadata": {
        "id": "7illgvPMumeO"
      },
      "outputs": [],
      "source": [
        "import requests\n",
        "import pandas as pd\n",
        "import json\n",
        "from datetime import date, timedelta"
      ]
    },
    {
      "cell_type": "code",
      "execution_count": null,
      "metadata": {
        "colab": {
          "base_uri": "https://localhost:8080/",
          "height": 380
        },
        "id": "aDkYFJ7F4Ml1",
        "outputId": "cf99eace-3341-4ea8-b210-aeeafc61861c"
      },
      "outputs": [],
      "source": [
        "# Global variables\n",
        "questions_list = []\n",
        "# Take keyword from user\n",
        "keyword = input(\"Enter a keyword: \")\n",
        "keyword1 = keyword\n",
        "# Multiple Site Search\n",
        "site_list = [\"quora.com\", \"reditt.com\"]\n",
        "for site in site_list:\n",
        "  keyword = keyword + \" site:\"+site\n",
        "  # Search on Google using Google API's and Key\n",
        "\n",
        "  google_url = \"https://www.googleapis.com/customsearch/v1?key={your_key}&cx={your_cx}\"\n",
        "  google_url = google_url + \"&q=\" + keyword\n",
        "  #print (\"Google URL: \" + google_url)\n",
        "  # Send a network request to google\n",
        "  response = requests.get (google_url)\n",
        "  #print(\"Response: \" + str(response. text) )\n",
        "  # Convert Response Strina into JSON Obiect\n",
        "  json_response = json. loads (response. text)\n",
        "  #search_time = json_response [\"searchInformation\"] [\"s\n",
        "  #print(\"Search time taken is\", search_time)\n",
        "  total_results = int (json_response[\"searchInformation\"][\"totalResults\"])\n",
        "  #print(\"Total results are\", total_results)\n",
        "  # Get the start index of next page\n",
        "  # next_index = json_response [\"queries\"] [\"nextPage\"]\n",
        "  # Loop through all the responses from google\n",
        "  total_pages = round(total_results / 10)\n",
        "  try:\n",
        "    # Loop through the responses\n",
        "    for item in json_response[\"items\"]:\n",
        "      title = item[\"title\"]\n",
        "      title = title. replace(\" - Quora\", \"\")\n",
        "      questions_list.append (title)\n",
        "      #print(title)\n",
        "  except Exception as e:\n",
        "    pass\n",
        "  # Reset the keyword\n",
        "  keyword = keyword1\n",
        "\n",
        "# questions_list\n",
        "questions_dict = {\"Questions\": questions_list}\n",
        "df = pd. DataFrame(data=questions_dict)\n",
        "df"
      ]
    },
    {
      "cell_type": "code",
      "execution_count": null,
      "metadata": {
        "id": "XilKrGvP-4dA"
      },
      "outputs": [],
      "source": [
        "# Export the data to a file\n",
        "df.to_csv(keyword1 + \"_questions.csv\")"
      ]
    }
  ],
  "metadata": {
    "colab": {
      "provenance": []
    },
    "kernelspec": {
      "display_name": "Python 3",
      "name": "python3"
    },
    "language_info": {
      "name": "python"
    }
  },
  "nbformat": 4,
  "nbformat_minor": 0
}
