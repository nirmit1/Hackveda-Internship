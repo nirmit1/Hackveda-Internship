{
  "nbformat": 4,
  "nbformat_minor": 0,
  "metadata": {
    "colab": {
      "provenance": []
    },
    "kernelspec": {
      "name": "python3",
      "display_name": "Python 3"
    },
    "language_info": {
      "name": "python"
    }
  },
  "cells": [
    {
      "cell_type": "code",
      "source": [
        "import yfinance as yf\n",
        "import pandas as pd\n",
        "\n",
        "# Function to fetch stock data using yfinance and return DataFrame\n",
        "def fetch_stock_data(symbol):\n",
        "    stock = yf.Ticker(symbol)\n",
        "    stock_info = stock.history(period=\"1y\")\n",
        "\n",
        "    # Additional columns - 'Dividends' and 'Stock Splits'\n",
        "    dividends = stock.actions\n",
        "    stock_splits = stock.splits\n",
        "\n",
        "    return stock_info, dividends, stock_splits\n",
        "\n",
        "# Get user input for the stock symbol\n",
        "user_stock_symbol = input(\"Enter the stock symbol (e.g., AAPL, GOOGL): \")\n",
        "\n",
        "# Fetch stock data for the user input symbol\n",
        "stock_data, dividends_data, stock_splits_data = fetch_stock_data(user_stock_symbol)\n",
        "\n",
        "if not stock_data.empty:\n",
        "    # Show the fetched data\n",
        "    print(f\"Stock data for {user_stock_symbol}:\")\n",
        "    print(stock_data.head())\n",
        "\n",
        "    # Export the DataFrame to a CSV file\n",
        "    csv_file_name = f\"{user_stock_symbol}_stock_data.csv\"\n",
        "    stock_data.to_csv(csv_file_name, index=True)\n",
        "    print(f\"\\nStock data has been exported to {csv_file_name} successfully.\")\n",
        "\n",
        "    # Show additional data: Dividends and Stock Splits\n",
        "    if not dividends_data.empty:\n",
        "        print(f\"\\nDividends data for {user_stock_symbol}:\")\n",
        "        print(dividends_data.head())\n",
        "    else:\n",
        "        print(f\"No dividends data found for the stock symbol {user_stock_symbol}.\")\n",
        "\n",
        "    if not stock_splits_data.empty:\n",
        "        print(f\"\\nStock Splits data for {user_stock_symbol}:\")\n",
        "        print(stock_splits_data.head())\n",
        "    else:\n",
        "        print(f\"No stock splits data found for the stock symbol {user_stock_symbol}.\")\n",
        "else:\n",
        "    print(f\"No data found for the stock symbol {user_stock_symbol}. Please try again.\")\n"
      ],
      "metadata": {
        "id": "jZzN4zGh8xOE",
        "outputId": "519760af-93a1-4f2d-dafa-7184ec070068",
        "colab": {
          "base_uri": "https://localhost:8080/"
        }
      },
      "execution_count": null,
      "outputs": [
        {
          "output_type": "stream",
          "name": "stdout",
          "text": [
            "Enter the stock symbol (e.g., AAPL, GOOGL): AAPL\n",
            "Stock data for AAPL:\n",
            "                                 Open        High         Low       Close  \\\n",
            "Date                                                                        \n",
            "2023-01-04 00:00:00-05:00  126.184691  127.944857  124.384755  125.657639   \n",
            "2023-01-05 00:00:00-05:00  126.423353  127.059795  124.066532  124.325081   \n",
            "2023-01-06 00:00:00-05:00  125.309594  129.565795  124.195816  128.899521   \n",
            "2023-01-09 00:00:00-05:00  129.744803  132.668464  129.168025  129.426575   \n",
            "2023-01-10 00:00:00-05:00  129.535953  130.530394  127.407849  130.003342   \n",
            "\n",
            "                             Volume  Dividends  Stock Splits  \n",
            "Date                                                          \n",
            "2023-01-04 00:00:00-05:00  89113600        0.0           0.0  \n",
            "2023-01-05 00:00:00-05:00  80962700        0.0           0.0  \n",
            "2023-01-06 00:00:00-05:00  87754700        0.0           0.0  \n",
            "2023-01-09 00:00:00-05:00  70790800        0.0           0.0  \n",
            "2023-01-10 00:00:00-05:00  63896200        0.0           0.0  \n",
            "\n",
            "Stock data has been exported to AAPL_stock_data.csv successfully.\n",
            "\n",
            "Dividends data for AAPL:\n",
            "                           Dividends  Stock Splits\n",
            "Date                                              \n",
            "2023-02-10 00:00:00-05:00       0.23           0.0\n",
            "2023-05-12 00:00:00-04:00       0.24           0.0\n",
            "2023-08-11 00:00:00-04:00       0.24           0.0\n",
            "2023-11-10 00:00:00-05:00       0.24           0.0\n",
            "No stock splits data found for the stock symbol AAPL.\n"
          ]
        }
      ]
    }
  ]
}