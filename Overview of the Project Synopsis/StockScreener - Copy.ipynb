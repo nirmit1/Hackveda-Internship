{
  "cells": [
    {
      "cell_type": "code",
      "execution_count": null,
      "metadata": {
        "colab": {
          "base_uri": "https://localhost:8080/"
        },
        "id": "lfq1wS44LTcl",
        "outputId": "f4526a0f-8892-45e2-edae-eeb64a83edff"
      },
      "outputs": [],
      "source": [
        "pip install yfinance"
      ]
    },
    {
      "cell_type": "code",
      "execution_count": null,
      "metadata": {
        "id": "PpZQ_wfAXPlY"
      },
      "outputs": [],
      "source": [
        "import yfinance as yf\n",
        "import pandas as pd\n",
        "\n",
        "# Function to fetch S&P 500 component stocks\n",
        "def fetch_sp500_symbols():\n",
        "    table = pd.read_html('https://en.wikipedia.org/wiki/List_of_S%26P_500_companies')\n",
        "    df = table[0]\n",
        "    symbols = df['Symbol'].tolist()\n",
        "    return symbols\n",
        "\n",
        "# Function to screen stocks based on criteria\n",
        "def stock_screener(min_pe_ratio, min_market_cap):\n",
        "    sp500_symbols = fetch_sp500_symbols()\n",
        "\n",
        "    filtered_stocks = []\n",
        "\n",
        "    for symbol in sp500_symbols:\n",
        "        stock = yf.Ticker(symbol)\n",
        "        try:\n",
        "            info = stock.info\n",
        "            if 'quoteType' in info and info['quoteType'] == 'EQUITY':\n",
        "                if 'trailingPE' in info and 'marketCap' in info:\n",
        "                    pe_ratio = info['trailingPE']\n",
        "                    market_cap = info['marketCap']\n",
        "                    if pe_ratio is not None and market_cap is not None:\n",
        "                        if pe_ratio >= min_pe_ratio and market_cap >= min_market_cap:\n",
        "                            filtered_stocks.append((symbol, pe_ratio, market_cap))\n",
        "        except Exception as e:\n",
        "            print(f\"Error fetching data for {symbol}: {e}\")\n",
        "\n",
        "    return filtered_stocks\n",
        "\n",
        "# Function to get user input for filtering criteria\n",
        "def get_user_input():\n",
        "    min_pe_ratio = float(input(\"Enter minimum P/E ratio: \"))\n",
        "    min_market_cap = float(input(\"Enter minimum market capitalization ($): \"))\n",
        "    return min_pe_ratio, min_market_cap\n"
      ]
    },
    {
      "cell_type": "code",
      "execution_count": null,
      "metadata": {
        "colab": {
          "base_uri": "https://localhost:8080/"
        },
        "id": "fOwl7yTMXQnc",
        "outputId": "e5ee0319-a2dd-460e-fb96-d9ca8267cf20"
      },
      "outputs": [],
      "source": [
        "# Run the stock screener based on user input\n",
        "def run_stock_screener():\n",
        "    min_pe_ratio, min_market_cap = get_user_input()\n",
        "    file_name = f\"filtered_stocks_PE{min_pe_ratio}_MC{min_market_cap}.csv\"\n",
        "    result = stock_screener(min_pe_ratio, min_market_cap)\n",
        "\n",
        "    # Display the filtered stocks\n",
        "    if result:\n",
        "        df = pd.DataFrame(result, columns=['Symbol', 'P/E Ratio', 'Market Cap'])\n",
        "        df.to_csv(file_name, index=False)\n",
        "        print(f\"Filtered stocks saved to '{file_name}'\")\n",
        "    else:\n",
        "        print(\"No stocks found based on the criteria.\")\n",
        "\n",
        "# Run the stock screener based on user input\n",
        "run_stock_screener()\n"
      ]
    }
  ],
  "metadata": {
    "colab": {
      "provenance": []
    },
    "kernelspec": {
      "display_name": "Python 3",
      "name": "python3"
    },
    "language_info": {
      "name": "python"
    }
  },
  "nbformat": 4,
  "nbformat_minor": 0
}
